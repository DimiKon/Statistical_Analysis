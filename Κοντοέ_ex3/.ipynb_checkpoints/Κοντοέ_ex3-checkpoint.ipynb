{
 "cells": [
  {
   "cell_type": "markdown",
   "metadata": {},
   "source": [
    "# Ποσοτική Ανάλυση Γλωσσικών Δεδομένων, Άσκηση 3\n",
    "\n"
   ]
  },
  {
   "cell_type": "code",
   "execution_count": 26,
   "metadata": {},
   "outputs": [],
   "source": [
    "import pandas as pd\n",
    "import matplotlib.pyplot as plt\n",
    "import seaborn as sns\n",
    "import numpy as np\n",
    "from scipy import stats\n",
    "from scipy.stats import norm\n",
    "from scipy.stats import bartlett\n",
    "from statsmodels.formula.api import ols\n",
    "from statsmodels.stats.anova import anova_lm"
   ]
  },
  {
   "cell_type": "code",
   "execution_count": 8,
   "metadata": {},
   "outputs": [
    {
     "data": {
      "text/html": [
       "<div>\n",
       "<style scoped>\n",
       "    .dataframe tbody tr th:only-of-type {\n",
       "        vertical-align: middle;\n",
       "    }\n",
       "\n",
       "    .dataframe tbody tr th {\n",
       "        vertical-align: top;\n",
       "    }\n",
       "\n",
       "    .dataframe thead th {\n",
       "        text-align: right;\n",
       "    }\n",
       "</style>\n",
       "<table border=\"1\" class=\"dataframe\">\n",
       "  <thead>\n",
       "    <tr style=\"text-align: right;\">\n",
       "      <th></th>\n",
       "      <th>groupid</th>\n",
       "      <th>er1</th>\n",
       "      <th>er2</th>\n",
       "      <th>er3</th>\n",
       "      <th>score</th>\n",
       "    </tr>\n",
       "  </thead>\n",
       "  <tbody>\n",
       "    <tr>\n",
       "      <th>0</th>\n",
       "      <td>1</td>\n",
       "      <td>7</td>\n",
       "      <td>4</td>\n",
       "      <td>27</td>\n",
       "      <td>144.6</td>\n",
       "    </tr>\n",
       "    <tr>\n",
       "      <th>1</th>\n",
       "      <td>2</td>\n",
       "      <td>30</td>\n",
       "      <td>26</td>\n",
       "      <td>24</td>\n",
       "      <td>33.2</td>\n",
       "    </tr>\n",
       "    <tr>\n",
       "      <th>2</th>\n",
       "      <td>3</td>\n",
       "      <td>36</td>\n",
       "      <td>4</td>\n",
       "      <td>27</td>\n",
       "      <td>86.6</td>\n",
       "    </tr>\n",
       "    <tr>\n",
       "      <th>3</th>\n",
       "      <td>1</td>\n",
       "      <td>12</td>\n",
       "      <td>20</td>\n",
       "      <td>26</td>\n",
       "      <td>86.8</td>\n",
       "    </tr>\n",
       "    <tr>\n",
       "      <th>4</th>\n",
       "      <td>3</td>\n",
       "      <td>34</td>\n",
       "      <td>7</td>\n",
       "      <td>29</td>\n",
       "      <td>81.2</td>\n",
       "    </tr>\n",
       "    <tr>\n",
       "      <th>5</th>\n",
       "      <td>1</td>\n",
       "      <td>0</td>\n",
       "      <td>18</td>\n",
       "      <td>26</td>\n",
       "      <td>116.8</td>\n",
       "    </tr>\n",
       "    <tr>\n",
       "      <th>6</th>\n",
       "      <td>3</td>\n",
       "      <td>27</td>\n",
       "      <td>18</td>\n",
       "      <td>1</td>\n",
       "      <td>67.8</td>\n",
       "    </tr>\n",
       "    <tr>\n",
       "      <th>7</th>\n",
       "      <td>1</td>\n",
       "      <td>28</td>\n",
       "      <td>5</td>\n",
       "      <td>27</td>\n",
       "      <td>99.6</td>\n",
       "    </tr>\n",
       "    <tr>\n",
       "      <th>8</th>\n",
       "      <td>3</td>\n",
       "      <td>20</td>\n",
       "      <td>19</td>\n",
       "      <td>18</td>\n",
       "      <td>75.4</td>\n",
       "    </tr>\n",
       "    <tr>\n",
       "      <th>9</th>\n",
       "      <td>2</td>\n",
       "      <td>26</td>\n",
       "      <td>22</td>\n",
       "      <td>16</td>\n",
       "      <td>54.8</td>\n",
       "    </tr>\n",
       "    <tr>\n",
       "      <th>10</th>\n",
       "      <td>3</td>\n",
       "      <td>14</td>\n",
       "      <td>4</td>\n",
       "      <td>7</td>\n",
       "      <td>134.6</td>\n",
       "    </tr>\n",
       "    <tr>\n",
       "      <th>11</th>\n",
       "      <td>2</td>\n",
       "      <td>33</td>\n",
       "      <td>13</td>\n",
       "      <td>18</td>\n",
       "      <td>67.4</td>\n",
       "    </tr>\n",
       "    <tr>\n",
       "      <th>12</th>\n",
       "      <td>1</td>\n",
       "      <td>27</td>\n",
       "      <td>17</td>\n",
       "      <td>11</td>\n",
       "      <td>68.8</td>\n",
       "    </tr>\n",
       "    <tr>\n",
       "      <th>13</th>\n",
       "      <td>3</td>\n",
       "      <td>18</td>\n",
       "      <td>24</td>\n",
       "      <td>10</td>\n",
       "      <td>66.0</td>\n",
       "    </tr>\n",
       "    <tr>\n",
       "      <th>14</th>\n",
       "      <td>2</td>\n",
       "      <td>38</td>\n",
       "      <td>7</td>\n",
       "      <td>14</td>\n",
       "      <td>76.2</td>\n",
       "    </tr>\n",
       "    <tr>\n",
       "      <th>15</th>\n",
       "      <td>1</td>\n",
       "      <td>28</td>\n",
       "      <td>18</td>\n",
       "      <td>7</td>\n",
       "      <td>64.6</td>\n",
       "    </tr>\n",
       "    <tr>\n",
       "      <th>16</th>\n",
       "      <td>2</td>\n",
       "      <td>29</td>\n",
       "      <td>16</td>\n",
       "      <td>29</td>\n",
       "      <td>64.2</td>\n",
       "    </tr>\n",
       "    <tr>\n",
       "      <th>17</th>\n",
       "      <td>3</td>\n",
       "      <td>27</td>\n",
       "      <td>25</td>\n",
       "      <td>22</td>\n",
       "      <td>42.6</td>\n",
       "    </tr>\n",
       "    <tr>\n",
       "      <th>18</th>\n",
       "      <td>1</td>\n",
       "      <td>4</td>\n",
       "      <td>4</td>\n",
       "      <td>20</td>\n",
       "      <td>152.0</td>\n",
       "    </tr>\n",
       "    <tr>\n",
       "      <th>19</th>\n",
       "      <td>3</td>\n",
       "      <td>21</td>\n",
       "      <td>12</td>\n",
       "      <td>17</td>\n",
       "      <td>94.6</td>\n",
       "    </tr>\n",
       "    <tr>\n",
       "      <th>20</th>\n",
       "      <td>2</td>\n",
       "      <td>27</td>\n",
       "      <td>17</td>\n",
       "      <td>5</td>\n",
       "      <td>70.0</td>\n",
       "    </tr>\n",
       "    <tr>\n",
       "      <th>21</th>\n",
       "      <td>2</td>\n",
       "      <td>38</td>\n",
       "      <td>26</td>\n",
       "      <td>8</td>\n",
       "      <td>20.4</td>\n",
       "    </tr>\n",
       "    <tr>\n",
       "      <th>22</th>\n",
       "      <td>1</td>\n",
       "      <td>14</td>\n",
       "      <td>9</td>\n",
       "      <td>17</td>\n",
       "      <td>117.6</td>\n",
       "    </tr>\n",
       "    <tr>\n",
       "      <th>23</th>\n",
       "      <td>2</td>\n",
       "      <td>39</td>\n",
       "      <td>30</td>\n",
       "      <td>2</td>\n",
       "      <td>7.6</td>\n",
       "    </tr>\n",
       "    <tr>\n",
       "      <th>24</th>\n",
       "      <td>3</td>\n",
       "      <td>8</td>\n",
       "      <td>12</td>\n",
       "      <td>10</td>\n",
       "      <td>122.0</td>\n",
       "    </tr>\n",
       "    <tr>\n",
       "      <th>25</th>\n",
       "      <td>1</td>\n",
       "      <td>1</td>\n",
       "      <td>19</td>\n",
       "      <td>6</td>\n",
       "      <td>115.8</td>\n",
       "    </tr>\n",
       "    <tr>\n",
       "      <th>26</th>\n",
       "      <td>2</td>\n",
       "      <td>24</td>\n",
       "      <td>24</td>\n",
       "      <td>24</td>\n",
       "      <td>51.2</td>\n",
       "    </tr>\n",
       "    <tr>\n",
       "      <th>27</th>\n",
       "      <td>2</td>\n",
       "      <td>16</td>\n",
       "      <td>27</td>\n",
       "      <td>12</td>\n",
       "      <td>60.6</td>\n",
       "    </tr>\n",
       "    <tr>\n",
       "      <th>28</th>\n",
       "      <td>1</td>\n",
       "      <td>5</td>\n",
       "      <td>26</td>\n",
       "      <td>2</td>\n",
       "      <td>87.6</td>\n",
       "    </tr>\n",
       "    <tr>\n",
       "      <th>29</th>\n",
       "      <td>3</td>\n",
       "      <td>23</td>\n",
       "      <td>29</td>\n",
       "      <td>25</td>\n",
       "      <td>38.0</td>\n",
       "    </tr>\n",
       "  </tbody>\n",
       "</table>\n",
       "</div>"
      ],
      "text/plain": [
       "    groupid  er1  er2  er3  score\n",
       "0         1    7    4   27  144.6\n",
       "1         2   30   26   24   33.2\n",
       "2         3   36    4   27   86.6\n",
       "3         1   12   20   26   86.8\n",
       "4         3   34    7   29   81.2\n",
       "5         1    0   18   26  116.8\n",
       "6         3   27   18    1   67.8\n",
       "7         1   28    5   27   99.6\n",
       "8         3   20   19   18   75.4\n",
       "9         2   26   22   16   54.8\n",
       "10        3   14    4    7  134.6\n",
       "11        2   33   13   18   67.4\n",
       "12        1   27   17   11   68.8\n",
       "13        3   18   24   10   66.0\n",
       "14        2   38    7   14   76.2\n",
       "15        1   28   18    7   64.6\n",
       "16        2   29   16   29   64.2\n",
       "17        3   27   25   22   42.6\n",
       "18        1    4    4   20  152.0\n",
       "19        3   21   12   17   94.6\n",
       "20        2   27   17    5   70.0\n",
       "21        2   38   26    8   20.4\n",
       "22        1   14    9   17  117.6\n",
       "23        2   39   30    2    7.6\n",
       "24        3    8   12   10  122.0\n",
       "25        1    1   19    6  115.8\n",
       "26        2   24   24   24   51.2\n",
       "27        2   16   27   12   60.6\n",
       "28        1    5   26    2   87.6\n",
       "29        3   23   29   25   38.0"
      ]
     },
     "execution_count": 8,
     "metadata": {},
     "output_type": "execute_result"
    }
   ],
   "source": [
    "data = {'groupid':[1, 2, 3, 1, 3, 1, 3, 1, 3, 2, 3, 2, 1, 3, 2, 1, 2, \n",
    "                   3, 1, 3, 2, 2, 1, 2, 3, 1, 2, 2, 1, 3],\n",
    "        'er1':[7, 30, 36, 12, 34, 0, 27, 28, 20, 26, 14, 33, 27, 18, \n",
    "               38, 28, 29, 27, 4, 21, 27, 38, 14, 39, 8, 1, 24, 16, 5, 23,],\n",
    "        'er2':[4, 26, 4, 20, 7, 18, 18, 5, 19, 22, 4, 13, 17, 24, 7, 18,\n",
    "               16, 25, 4, 12, 17, 26, 9, 30, 12, 19, 24, 27, 26, 29,],\n",
    "        'er3':[27, 24, 27, 26, 29, 26, 1, 27, 18, 16, 7, 18, 11, 10, 14, 7,\n",
    "               29, 22, 20, 17, 5, 8, 17, 2, 10, 6, 24, 12, 2, 25,],\n",
    "        'score':[144.6, 33.2, 86.6, 86.8, 81.2, 116.8, 67.8, 99.6, 75.4, 54.8, \n",
    "                 134.6, 67.4, 68.8, 66, 76.2, 64.6, 64.2, 42.6, 152, 94.6, 70, \n",
    "                 20.4, 117.6, 7.6, 122, 115.8, 51.2, 60.6, 87.6, 38,]}\n",
    "\n",
    "df = pd.DataFrame(data)\n",
    "df"
   ]
  },
  {
   "cell_type": "code",
   "execution_count": 5,
   "metadata": {},
   "outputs": [
    {
     "data": {
      "text/html": [
       "<div>\n",
       "<style scoped>\n",
       "    .dataframe tbody tr th:only-of-type {\n",
       "        vertical-align: middle;\n",
       "    }\n",
       "\n",
       "    .dataframe tbody tr th {\n",
       "        vertical-align: top;\n",
       "    }\n",
       "\n",
       "    .dataframe thead th {\n",
       "        text-align: right;\n",
       "    }\n",
       "</style>\n",
       "<table border=\"1\" class=\"dataframe\">\n",
       "  <thead>\n",
       "    <tr style=\"text-align: right;\">\n",
       "      <th></th>\n",
       "      <th>groupid</th>\n",
       "      <th>er3</th>\n",
       "    </tr>\n",
       "  </thead>\n",
       "  <tbody>\n",
       "    <tr>\n",
       "      <th>0</th>\n",
       "      <td>1</td>\n",
       "      <td>27</td>\n",
       "    </tr>\n",
       "    <tr>\n",
       "      <th>1</th>\n",
       "      <td>2</td>\n",
       "      <td>24</td>\n",
       "    </tr>\n",
       "    <tr>\n",
       "      <th>2</th>\n",
       "      <td>3</td>\n",
       "      <td>27</td>\n",
       "    </tr>\n",
       "    <tr>\n",
       "      <th>3</th>\n",
       "      <td>1</td>\n",
       "      <td>26</td>\n",
       "    </tr>\n",
       "    <tr>\n",
       "      <th>4</th>\n",
       "      <td>3</td>\n",
       "      <td>29</td>\n",
       "    </tr>\n",
       "    <tr>\n",
       "      <th>5</th>\n",
       "      <td>1</td>\n",
       "      <td>26</td>\n",
       "    </tr>\n",
       "    <tr>\n",
       "      <th>6</th>\n",
       "      <td>3</td>\n",
       "      <td>1</td>\n",
       "    </tr>\n",
       "    <tr>\n",
       "      <th>7</th>\n",
       "      <td>1</td>\n",
       "      <td>27</td>\n",
       "    </tr>\n",
       "    <tr>\n",
       "      <th>8</th>\n",
       "      <td>3</td>\n",
       "      <td>18</td>\n",
       "    </tr>\n",
       "    <tr>\n",
       "      <th>9</th>\n",
       "      <td>2</td>\n",
       "      <td>16</td>\n",
       "    </tr>\n",
       "    <tr>\n",
       "      <th>10</th>\n",
       "      <td>3</td>\n",
       "      <td>7</td>\n",
       "    </tr>\n",
       "    <tr>\n",
       "      <th>11</th>\n",
       "      <td>2</td>\n",
       "      <td>18</td>\n",
       "    </tr>\n",
       "    <tr>\n",
       "      <th>12</th>\n",
       "      <td>1</td>\n",
       "      <td>11</td>\n",
       "    </tr>\n",
       "    <tr>\n",
       "      <th>13</th>\n",
       "      <td>3</td>\n",
       "      <td>10</td>\n",
       "    </tr>\n",
       "    <tr>\n",
       "      <th>14</th>\n",
       "      <td>2</td>\n",
       "      <td>14</td>\n",
       "    </tr>\n",
       "    <tr>\n",
       "      <th>15</th>\n",
       "      <td>1</td>\n",
       "      <td>7</td>\n",
       "    </tr>\n",
       "    <tr>\n",
       "      <th>16</th>\n",
       "      <td>2</td>\n",
       "      <td>29</td>\n",
       "    </tr>\n",
       "    <tr>\n",
       "      <th>17</th>\n",
       "      <td>3</td>\n",
       "      <td>22</td>\n",
       "    </tr>\n",
       "    <tr>\n",
       "      <th>18</th>\n",
       "      <td>1</td>\n",
       "      <td>20</td>\n",
       "    </tr>\n",
       "    <tr>\n",
       "      <th>19</th>\n",
       "      <td>3</td>\n",
       "      <td>17</td>\n",
       "    </tr>\n",
       "    <tr>\n",
       "      <th>20</th>\n",
       "      <td>2</td>\n",
       "      <td>5</td>\n",
       "    </tr>\n",
       "    <tr>\n",
       "      <th>21</th>\n",
       "      <td>2</td>\n",
       "      <td>8</td>\n",
       "    </tr>\n",
       "    <tr>\n",
       "      <th>22</th>\n",
       "      <td>1</td>\n",
       "      <td>17</td>\n",
       "    </tr>\n",
       "    <tr>\n",
       "      <th>23</th>\n",
       "      <td>2</td>\n",
       "      <td>2</td>\n",
       "    </tr>\n",
       "    <tr>\n",
       "      <th>24</th>\n",
       "      <td>3</td>\n",
       "      <td>10</td>\n",
       "    </tr>\n",
       "    <tr>\n",
       "      <th>25</th>\n",
       "      <td>1</td>\n",
       "      <td>6</td>\n",
       "    </tr>\n",
       "    <tr>\n",
       "      <th>26</th>\n",
       "      <td>2</td>\n",
       "      <td>24</td>\n",
       "    </tr>\n",
       "    <tr>\n",
       "      <th>27</th>\n",
       "      <td>2</td>\n",
       "      <td>12</td>\n",
       "    </tr>\n",
       "    <tr>\n",
       "      <th>28</th>\n",
       "      <td>1</td>\n",
       "      <td>2</td>\n",
       "    </tr>\n",
       "    <tr>\n",
       "      <th>29</th>\n",
       "      <td>3</td>\n",
       "      <td>25</td>\n",
       "    </tr>\n",
       "  </tbody>\n",
       "</table>\n",
       "</div>"
      ],
      "text/plain": [
       "    groupid  er3\n",
       "0         1   27\n",
       "1         2   24\n",
       "2         3   27\n",
       "3         1   26\n",
       "4         3   29\n",
       "5         1   26\n",
       "6         3    1\n",
       "7         1   27\n",
       "8         3   18\n",
       "9         2   16\n",
       "10        3    7\n",
       "11        2   18\n",
       "12        1   11\n",
       "13        3   10\n",
       "14        2   14\n",
       "15        1    7\n",
       "16        2   29\n",
       "17        3   22\n",
       "18        1   20\n",
       "19        3   17\n",
       "20        2    5\n",
       "21        2    8\n",
       "22        1   17\n",
       "23        2    2\n",
       "24        3   10\n",
       "25        1    6\n",
       "26        2   24\n",
       "27        2   12\n",
       "28        1    2\n",
       "29        3   25"
      ]
     },
     "execution_count": 5,
     "metadata": {},
     "output_type": "execute_result"
    }
   ],
   "source": [
    "er3 = df[['groupid', 'er3']]\n",
    "er3"
   ]
  },
  {
   "cell_type": "code",
   "execution_count": 6,
   "metadata": {},
   "outputs": [
    {
     "data": {
      "text/html": [
       "<div>\n",
       "<style scoped>\n",
       "    .dataframe tbody tr th:only-of-type {\n",
       "        vertical-align: middle;\n",
       "    }\n",
       "\n",
       "    .dataframe tbody tr th {\n",
       "        vertical-align: top;\n",
       "    }\n",
       "\n",
       "    .dataframe thead th {\n",
       "        text-align: right;\n",
       "    }\n",
       "</style>\n",
       "<table border=\"1\" class=\"dataframe\">\n",
       "  <thead>\n",
       "    <tr style=\"text-align: right;\">\n",
       "      <th></th>\n",
       "      <th>er3</th>\n",
       "    </tr>\n",
       "    <tr>\n",
       "      <th>groupid</th>\n",
       "      <th></th>\n",
       "    </tr>\n",
       "  </thead>\n",
       "  <tbody>\n",
       "    <tr>\n",
       "      <th>1</th>\n",
       "      <td>10</td>\n",
       "    </tr>\n",
       "    <tr>\n",
       "      <th>2</th>\n",
       "      <td>10</td>\n",
       "    </tr>\n",
       "    <tr>\n",
       "      <th>3</th>\n",
       "      <td>10</td>\n",
       "    </tr>\n",
       "  </tbody>\n",
       "</table>\n",
       "</div>"
      ],
      "text/plain": [
       "         er3\n",
       "groupid     \n",
       "1         10\n",
       "2         10\n",
       "3         10"
      ]
     },
     "execution_count": 6,
     "metadata": {},
     "output_type": "execute_result"
    }
   ],
   "source": [
    "frequency_df = er3.groupby('groupid').count()\n",
    "frequency_df"
   ]
  },
  {
   "cell_type": "markdown",
   "metadata": {},
   "source": [
    "# Ερώτημα 1"
   ]
  },
  {
   "cell_type": "code",
   "execution_count": 14,
   "metadata": {},
   "outputs": [
    {
     "data": {
      "image/png": "[encoded data removed]",
      "text/plain": [
       "<Figure size 720x432 with 1 Axes>"
      ]
     },
     "metadata": {
      "needs_background": "light"
     },
     "output_type": "display_data"
    },
    {
     "data": {
      "image/png": "[encoded data removed]",
      "text/plain": [
       "<Figure size 720x432 with 1 Axes>"
      ]
     },
     "metadata": {
      "needs_background": "light"
     },
     "output_type": "display_data"
    },
    {
     "data": {
      "image/png": "[encoded data removed]",
      "text/plain": [
       "<Figure size 720x432 with 1 Axes>"
      ]
     },
     "metadata": {
      "needs_background": "light"
     },
     "output_type": "display_data"
    }
   ],
   "source": [
    "\n",
    "plt.figure(figsize=(10,6))\n",
    "ax=sns.stripplot(y='er3', x='groupid', data=er3)\n",
    "plt.show()\n",
    "\n",
    "er3.boxplot(by = 'groupid', column =['er3'], grid = True, figsize=(10, 6))\n",
    "plt.show()\n",
    "\n",
    "\n",
    "plt.figure(figsize=(10,6))\n",
    "ax = sns.boxplot(y='er3', x='groupid', data=er3)\n",
    "plt.show()\n",
    "\n",
    "groups = er3.groupby('groupid')\n",
    "\n"
   ]
  },
  {
   "cell_type": "markdown",
   "metadata": {},
   "source": [
    "# Ερώτημα 2"
   ]
  },
  {
   "cell_type": "markdown",
   "metadata": {},
   "source": [
    "A)"
   ]
  },
  {
   "cell_type": "code",
   "execution_count": 16,
   "metadata": {},
   "outputs": [
    {
     "data": {
      "text/html": [
       "<div>\n",
       "<style scoped>\n",
       "    .dataframe tbody tr th:only-of-type {\n",
       "        vertical-align: middle;\n",
       "    }\n",
       "\n",
       "    .dataframe tbody tr th {\n",
       "        vertical-align: top;\n",
       "    }\n",
       "\n",
       "    .dataframe thead th {\n",
       "        text-align: right;\n",
       "    }\n",
       "</style>\n",
       "<table border=\"1\" class=\"dataframe\">\n",
       "  <thead>\n",
       "    <tr style=\"text-align: right;\">\n",
       "      <th></th>\n",
       "      <th>groupid</th>\n",
       "      <th>er1</th>\n",
       "    </tr>\n",
       "  </thead>\n",
       "  <tbody>\n",
       "    <tr>\n",
       "      <th>0</th>\n",
       "      <td>1</td>\n",
       "      <td>7</td>\n",
       "    </tr>\n",
       "    <tr>\n",
       "      <th>1</th>\n",
       "      <td>2</td>\n",
       "      <td>30</td>\n",
       "    </tr>\n",
       "    <tr>\n",
       "      <th>2</th>\n",
       "      <td>3</td>\n",
       "      <td>36</td>\n",
       "    </tr>\n",
       "    <tr>\n",
       "      <th>3</th>\n",
       "      <td>1</td>\n",
       "      <td>12</td>\n",
       "    </tr>\n",
       "    <tr>\n",
       "      <th>4</th>\n",
       "      <td>3</td>\n",
       "      <td>34</td>\n",
       "    </tr>\n",
       "    <tr>\n",
       "      <th>5</th>\n",
       "      <td>1</td>\n",
       "      <td>0</td>\n",
       "    </tr>\n",
       "    <tr>\n",
       "      <th>6</th>\n",
       "      <td>3</td>\n",
       "      <td>27</td>\n",
       "    </tr>\n",
       "    <tr>\n",
       "      <th>7</th>\n",
       "      <td>1</td>\n",
       "      <td>28</td>\n",
       "    </tr>\n",
       "    <tr>\n",
       "      <th>8</th>\n",
       "      <td>3</td>\n",
       "      <td>20</td>\n",
       "    </tr>\n",
       "    <tr>\n",
       "      <th>9</th>\n",
       "      <td>2</td>\n",
       "      <td>26</td>\n",
       "    </tr>\n",
       "    <tr>\n",
       "      <th>10</th>\n",
       "      <td>3</td>\n",
       "      <td>14</td>\n",
       "    </tr>\n",
       "    <tr>\n",
       "      <th>11</th>\n",
       "      <td>2</td>\n",
       "      <td>33</td>\n",
       "    </tr>\n",
       "    <tr>\n",
       "      <th>12</th>\n",
       "      <td>1</td>\n",
       "      <td>27</td>\n",
       "    </tr>\n",
       "    <tr>\n",
       "      <th>13</th>\n",
       "      <td>3</td>\n",
       "      <td>18</td>\n",
       "    </tr>\n",
       "    <tr>\n",
       "      <th>14</th>\n",
       "      <td>2</td>\n",
       "      <td>38</td>\n",
       "    </tr>\n",
       "    <tr>\n",
       "      <th>15</th>\n",
       "      <td>1</td>\n",
       "      <td>28</td>\n",
       "    </tr>\n",
       "    <tr>\n",
       "      <th>16</th>\n",
       "      <td>2</td>\n",
       "      <td>29</td>\n",
       "    </tr>\n",
       "    <tr>\n",
       "      <th>17</th>\n",
       "      <td>3</td>\n",
       "      <td>27</td>\n",
       "    </tr>\n",
       "    <tr>\n",
       "      <th>18</th>\n",
       "      <td>1</td>\n",
       "      <td>4</td>\n",
       "    </tr>\n",
       "    <tr>\n",
       "      <th>19</th>\n",
       "      <td>3</td>\n",
       "      <td>21</td>\n",
       "    </tr>\n",
       "    <tr>\n",
       "      <th>20</th>\n",
       "      <td>2</td>\n",
       "      <td>27</td>\n",
       "    </tr>\n",
       "    <tr>\n",
       "      <th>21</th>\n",
       "      <td>2</td>\n",
       "      <td>38</td>\n",
       "    </tr>\n",
       "    <tr>\n",
       "      <th>22</th>\n",
       "      <td>1</td>\n",
       "      <td>14</td>\n",
       "    </tr>\n",
       "    <tr>\n",
       "      <th>23</th>\n",
       "      <td>2</td>\n",
       "      <td>39</td>\n",
       "    </tr>\n",
       "    <tr>\n",
       "      <th>24</th>\n",
       "      <td>3</td>\n",
       "      <td>8</td>\n",
       "    </tr>\n",
       "    <tr>\n",
       "      <th>25</th>\n",
       "      <td>1</td>\n",
       "      <td>1</td>\n",
       "    </tr>\n",
       "    <tr>\n",
       "      <th>26</th>\n",
       "      <td>2</td>\n",
       "      <td>24</td>\n",
       "    </tr>\n",
       "    <tr>\n",
       "      <th>27</th>\n",
       "      <td>2</td>\n",
       "      <td>16</td>\n",
       "    </tr>\n",
       "    <tr>\n",
       "      <th>28</th>\n",
       "      <td>1</td>\n",
       "      <td>5</td>\n",
       "    </tr>\n",
       "    <tr>\n",
       "      <th>29</th>\n",
       "      <td>3</td>\n",
       "      <td>23</td>\n",
       "    </tr>\n",
       "  </tbody>\n",
       "</table>\n",
       "</div>"
      ],
      "text/plain": [
       "    groupid  er1\n",
       "0         1    7\n",
       "1         2   30\n",
       "2         3   36\n",
       "3         1   12\n",
       "4         3   34\n",
       "5         1    0\n",
       "6         3   27\n",
       "7         1   28\n",
       "8         3   20\n",
       "9         2   26\n",
       "10        3   14\n",
       "11        2   33\n",
       "12        1   27\n",
       "13        3   18\n",
       "14        2   38\n",
       "15        1   28\n",
       "16        2   29\n",
       "17        3   27\n",
       "18        1    4\n",
       "19        3   21\n",
       "20        2   27\n",
       "21        2   38\n",
       "22        1   14\n",
       "23        2   39\n",
       "24        3    8\n",
       "25        1    1\n",
       "26        2   24\n",
       "27        2   16\n",
       "28        1    5\n",
       "29        3   23"
      ]
     },
     "execution_count": 16,
     "metadata": {},
     "output_type": "execute_result"
    }
   ],
   "source": [
    "er1 = df[['groupid', 'er1']]\n",
    "er1"
   ]
  },
  {
   "cell_type": "code",
   "execution_count": 17,
   "metadata": {},
   "outputs": [
    {
     "data": {
      "text/html": [
       "<div>\n",
       "<style scoped>\n",
       "    .dataframe tbody tr th:only-of-type {\n",
       "        vertical-align: middle;\n",
       "    }\n",
       "\n",
       "    .dataframe tbody tr th {\n",
       "        vertical-align: top;\n",
       "    }\n",
       "\n",
       "    .dataframe thead th {\n",
       "        text-align: right;\n",
       "    }\n",
       "</style>\n",
       "<table border=\"1\" class=\"dataframe\">\n",
       "  <thead>\n",
       "    <tr style=\"text-align: right;\">\n",
       "      <th></th>\n",
       "      <th>er1</th>\n",
       "    </tr>\n",
       "    <tr>\n",
       "      <th>groupid</th>\n",
       "      <th></th>\n",
       "    </tr>\n",
       "  </thead>\n",
       "  <tbody>\n",
       "    <tr>\n",
       "      <th>1</th>\n",
       "      <td>10</td>\n",
       "    </tr>\n",
       "    <tr>\n",
       "      <th>2</th>\n",
       "      <td>10</td>\n",
       "    </tr>\n",
       "    <tr>\n",
       "      <th>3</th>\n",
       "      <td>10</td>\n",
       "    </tr>\n",
       "  </tbody>\n",
       "</table>\n",
       "</div>"
      ],
      "text/plain": [
       "         er1\n",
       "groupid     \n",
       "1         10\n",
       "2         10\n",
       "3         10"
      ]
     },
     "execution_count": 17,
     "metadata": {},
     "output_type": "execute_result"
    }
   ],
   "source": [
    "frequency_df = er1.groupby('groupid').count()\n",
    "frequency_df"
   ]
  },
  {
   "cell_type": "code",
   "execution_count": 18,
   "metadata": {},
   "outputs": [
    {
     "data": {
      "image/png": "[encoded data removed]",
      "text/plain": [
       "<Figure size 720x432 with 1 Axes>"
      ]
     },
     "metadata": {
      "needs_background": "light"
     },
     "output_type": "display_data"
    }
   ],
   "source": [
    "plt.figure(figsize=(10,6))\n",
    "ax=sns.stripplot(y='er1', x='groupid', data=er1)\n",
    "plt.show()"
   ]
  },
  {
   "cell_type": "markdown",
   "metadata": {},
   "source": [
    "ANOVA Assumptions"
   ]
  },
  {
   "cell_type": "markdown",
   "metadata": {},
   "source": [
    "Normality (Kolmogorov-Smirnov test)"
   ]
  },
  {
   "cell_type": "markdown",
   "metadata": {},
   "source": [
    "y1 = er1['er1'];\n",
    "plt.hist(y1, bins=32, density=True, cumulative=True)\n",
    "plt.show()\n",
    "stat1, pvalue1  = stats.kstest(y1, \"norm\")\n",
    "print(pvalue1)\n",
    "\n",
    "if pvalue1 < 0.05:\n",
    "    print(\"H0 can be rejected\")\n",
    "else:\n",
    "    print(\"H0 cannot be rejected\")\n",
    "    \n",
    "    \n",
    "target_group = 1\n",
    "y2 = er1['er1'][er1['groupid'] == target_group]\n",
    "plt.hist(y2, bins=32, density=True, cumulative=True)\n",
    "plt.show()\n",
    "stat2, pvalue2  = stats.kstest(y2, \"norm\")\n",
    "print(pvalue2)\n",
    "if pvalue2 < 0.05:\n",
    "    print(\"H0 can be rejected\")\n",
    "else:\n",
    "    print(\"H0 cannot be rejected\")\n",
    "\n",
    "\n",
    "target_group2 = 2\n",
    "y3 = er1['er1'][er1['groupid'] == target_group2]\n",
    "plt.hist(y3, bins=32, density=True, cumulative=True)\n",
    "plt.show()\n",
    "stat3, pvalue3  = stats.kstest(y3, \"norm\")\n",
    "print(pvalue3)\n",
    "if pvalue3 < 0.05:\n",
    "    print(\"H0 can be rejected\")\n",
    "else:\n",
    "    print(\"H0 cannot be rejected\")\n",
    "\n",
    "\n",
    "target_group3 = 3\n",
    "y4 = er1['er1'][er1['groupid'] == target_group3]\n",
    "plt.hist(y4, bins=32, density=True, cumulative=True)\n",
    "plt.show()\n",
    "stat4, pvalue4  = stats.kstest(y4, \"norm\")\n",
    "print(pvalue4)\n",
    "if pvalue4 < 0.05:\n",
    "    print(\"H0 can be rejected\")\n",
    "else:\n",
    "    print(\"H0 cannot be rejected\")    "
   ]
  },
  {
   "cell_type": "markdown",
   "metadata": {},
   "source": [
    "Constant Variance"
   ]
  },
  {
   "cell_type": "code",
   "execution_count": 25,
   "metadata": {},
   "outputs": [
    {
     "name": "stdout",
     "output_type": "stream",
     "text": [
      "0.4290163779170123\n"
     ]
    }
   ],
   "source": [
    "g1 = er1['er1'][er1['groupid'] == 1]\n",
    "g2 = er1['er1'][er1['groupid'] == 2]\n",
    "g3 = er1['er1'][er1['groupid'] == 3]\n",
    "\n",
    "stat1, p1 = bartlett(g1, g2, g3)\n",
    "print(p1)"
   ]
  },
  {
   "cell_type": "markdown",
   "metadata": {},
   "source": [
    "Εφόσον θεωρήσουμε ότι ικανοποιείται η προϋπόθεση της ανεξαρτησίας, δηλαδή τόσο οι παρατηρήσεις κάθε ομάδας όσο και οι ομάδες είναι ανεξάρτητες μεταξύ τους, και με βάση τα δύο παραπάνω τεστ, ικανοποιείται και μία ακόμα προϋπόθεση, ότι η διαφορά στη διακύμανση των ομάδων δεν είναι στατιστικά σημαντικά, μπορούμε να προχωρήσουμε στην υλοποίηση ενός one-way ANOVA test, προκειμένου να εξετάσουμε το ζητούμενο του πρώτου ερωτήματος (δηλ. εάν κάποια παιδιών διαφοροποιείται ως προς τη μέση τιμή των λαθών είδους 1)."
   ]
  },
  {
   "cell_type": "code",
   "execution_count": 28,
   "metadata": {},
   "outputs": [
    {
     "name": "stdout",
     "output_type": "stream",
     "text": [
      "number_of_groups =  24\n",
      "size_of_sample = 30\n",
      "              df  sum_sq     mean_sq         F    PR(>F)\n",
      "C(groupid)   2.0  1528.8  764.400000  9.044172  0.000985\n",
      "Residual    27.0  2282.0   84.518519       NaN       NaN\n",
      "\n",
      "One of the groups is different.\n"
     ]
    }
   ],
   "source": [
    "number_of_groups = len(er1['er1'].unique())\n",
    "size_of_sample  = er1.shape[0]\n",
    "print(\"number_of_groups = \", number_of_groups)\n",
    "print(\"size_of_sample =\",size_of_sample)\n",
    "\n",
    "alpha = 0.05\n",
    "model = ols('er1 ~ C(groupid)', er1).fit()\n",
    "anovaResults = anova_lm(model, type=2)\n",
    "print(anovaResults)\n",
    "print()\n",
    "if anovaResults['PR(>F)'][0] < alpha:\n",
    "    print(\"One of the groups is different.\")\n",
    "else:\n",
    "    print(\"H0 cannot be rejected\")"
   ]
  },
  {
   "cell_type": "markdown",
   "metadata": {},
   "source": [
    "Για F-statistic με βαθμούς ελευθερίας 2 / 27  και  alpha=0.05, το  F-critical είναι  3.35, και εφόσον  9.044172 > 3.35, μπορούμε να απορρίψουμε τη μηδενική υπόθεση (H0 hypothesis), και άρα να υποστηρίξουμε ότι υπάρχει στατιστικά σημαντική διαφορά, σε επίπεδο σημαντικότητας 0,05 (όσο το α), ανάμεσα στις μέσες τιμές των τριών ομάδων για τα λάθη είδους 1. (Το αποτέλεσμα αυτό προκύπτει και με βάση το παραπάνω γράφημα)\n",
    "\n",
    "2. Α)  =  Σωστό"
   ]
  },
  {
   "cell_type": "markdown",
   "metadata": {},
   "source": [
    "Β)"
   ]
  },
  {
   "cell_type": "code",
   "execution_count": 29,
   "metadata": {},
   "outputs": [
    {
     "data": {
      "text/html": [
       "<div>\n",
       "<style scoped>\n",
       "    .dataframe tbody tr th:only-of-type {\n",
       "        vertical-align: middle;\n",
       "    }\n",
       "\n",
       "    .dataframe tbody tr th {\n",
       "        vertical-align: top;\n",
       "    }\n",
       "\n",
       "    .dataframe thead th {\n",
       "        text-align: right;\n",
       "    }\n",
       "</style>\n",
       "<table border=\"1\" class=\"dataframe\">\n",
       "  <thead>\n",
       "    <tr style=\"text-align: right;\">\n",
       "      <th></th>\n",
       "      <th>groupid</th>\n",
       "      <th>er2</th>\n",
       "    </tr>\n",
       "  </thead>\n",
       "  <tbody>\n",
       "    <tr>\n",
       "      <th>0</th>\n",
       "      <td>1</td>\n",
       "      <td>4</td>\n",
       "    </tr>\n",
       "    <tr>\n",
       "      <th>1</th>\n",
       "      <td>2</td>\n",
       "      <td>26</td>\n",
       "    </tr>\n",
       "    <tr>\n",
       "      <th>2</th>\n",
       "      <td>3</td>\n",
       "      <td>4</td>\n",
       "    </tr>\n",
       "    <tr>\n",
       "      <th>3</th>\n",
       "      <td>1</td>\n",
       "      <td>20</td>\n",
       "    </tr>\n",
       "    <tr>\n",
       "      <th>4</th>\n",
       "      <td>3</td>\n",
       "      <td>7</td>\n",
       "    </tr>\n",
       "    <tr>\n",
       "      <th>5</th>\n",
       "      <td>1</td>\n",
       "      <td>18</td>\n",
       "    </tr>\n",
       "    <tr>\n",
       "      <th>6</th>\n",
       "      <td>3</td>\n",
       "      <td>18</td>\n",
       "    </tr>\n",
       "    <tr>\n",
       "      <th>7</th>\n",
       "      <td>1</td>\n",
       "      <td>5</td>\n",
       "    </tr>\n",
       "    <tr>\n",
       "      <th>8</th>\n",
       "      <td>3</td>\n",
       "      <td>19</td>\n",
       "    </tr>\n",
       "    <tr>\n",
       "      <th>9</th>\n",
       "      <td>2</td>\n",
       "      <td>22</td>\n",
       "    </tr>\n",
       "    <tr>\n",
       "      <th>10</th>\n",
       "      <td>3</td>\n",
       "      <td>4</td>\n",
       "    </tr>\n",
       "    <tr>\n",
       "      <th>11</th>\n",
       "      <td>2</td>\n",
       "      <td>13</td>\n",
       "    </tr>\n",
       "    <tr>\n",
       "      <th>12</th>\n",
       "      <td>1</td>\n",
       "      <td>17</td>\n",
       "    </tr>\n",
       "    <tr>\n",
       "      <th>13</th>\n",
       "      <td>3</td>\n",
       "      <td>24</td>\n",
       "    </tr>\n",
       "    <tr>\n",
       "      <th>14</th>\n",
       "      <td>2</td>\n",
       "      <td>7</td>\n",
       "    </tr>\n",
       "    <tr>\n",
       "      <th>15</th>\n",
       "      <td>1</td>\n",
       "      <td>18</td>\n",
       "    </tr>\n",
       "    <tr>\n",
       "      <th>16</th>\n",
       "      <td>2</td>\n",
       "      <td>16</td>\n",
       "    </tr>\n",
       "    <tr>\n",
       "      <th>17</th>\n",
       "      <td>3</td>\n",
       "      <td>25</td>\n",
       "    </tr>\n",
       "    <tr>\n",
       "      <th>18</th>\n",
       "      <td>1</td>\n",
       "      <td>4</td>\n",
       "    </tr>\n",
       "    <tr>\n",
       "      <th>19</th>\n",
       "      <td>3</td>\n",
       "      <td>12</td>\n",
       "    </tr>\n",
       "    <tr>\n",
       "      <th>20</th>\n",
       "      <td>2</td>\n",
       "      <td>17</td>\n",
       "    </tr>\n",
       "    <tr>\n",
       "      <th>21</th>\n",
       "      <td>2</td>\n",
       "      <td>26</td>\n",
       "    </tr>\n",
       "    <tr>\n",
       "      <th>22</th>\n",
       "      <td>1</td>\n",
       "      <td>9</td>\n",
       "    </tr>\n",
       "    <tr>\n",
       "      <th>23</th>\n",
       "      <td>2</td>\n",
       "      <td>30</td>\n",
       "    </tr>\n",
       "    <tr>\n",
       "      <th>24</th>\n",
       "      <td>3</td>\n",
       "      <td>12</td>\n",
       "    </tr>\n",
       "    <tr>\n",
       "      <th>25</th>\n",
       "      <td>1</td>\n",
       "      <td>19</td>\n",
       "    </tr>\n",
       "    <tr>\n",
       "      <th>26</th>\n",
       "      <td>2</td>\n",
       "      <td>24</td>\n",
       "    </tr>\n",
       "    <tr>\n",
       "      <th>27</th>\n",
       "      <td>2</td>\n",
       "      <td>27</td>\n",
       "    </tr>\n",
       "    <tr>\n",
       "      <th>28</th>\n",
       "      <td>1</td>\n",
       "      <td>26</td>\n",
       "    </tr>\n",
       "    <tr>\n",
       "      <th>29</th>\n",
       "      <td>3</td>\n",
       "      <td>29</td>\n",
       "    </tr>\n",
       "  </tbody>\n",
       "</table>\n",
       "</div>"
      ],
      "text/plain": [
       "    groupid  er2\n",
       "0         1    4\n",
       "1         2   26\n",
       "2         3    4\n",
       "3         1   20\n",
       "4         3    7\n",
       "5         1   18\n",
       "6         3   18\n",
       "7         1    5\n",
       "8         3   19\n",
       "9         2   22\n",
       "10        3    4\n",
       "11        2   13\n",
       "12        1   17\n",
       "13        3   24\n",
       "14        2    7\n",
       "15        1   18\n",
       "16        2   16\n",
       "17        3   25\n",
       "18        1    4\n",
       "19        3   12\n",
       "20        2   17\n",
       "21        2   26\n",
       "22        1    9\n",
       "23        2   30\n",
       "24        3   12\n",
       "25        1   19\n",
       "26        2   24\n",
       "27        2   27\n",
       "28        1   26\n",
       "29        3   29"
      ]
     },
     "execution_count": 29,
     "metadata": {},
     "output_type": "execute_result"
    }
   ],
   "source": [
    "er2 = df[['groupid', 'er2']]\n",
    "er2"
   ]
  },
  {
   "cell_type": "code",
   "execution_count": 30,
   "metadata": {},
   "outputs": [
    {
     "data": {
      "text/html": [
       "<div>\n",
       "<style scoped>\n",
       "    .dataframe tbody tr th:only-of-type {\n",
       "        vertical-align: middle;\n",
       "    }\n",
       "\n",
       "    .dataframe tbody tr th {\n",
       "        vertical-align: top;\n",
       "    }\n",
       "\n",
       "    .dataframe thead th {\n",
       "        text-align: right;\n",
       "    }\n",
       "</style>\n",
       "<table border=\"1\" class=\"dataframe\">\n",
       "  <thead>\n",
       "    <tr style=\"text-align: right;\">\n",
       "      <th></th>\n",
       "      <th>er2</th>\n",
       "    </tr>\n",
       "    <tr>\n",
       "      <th>groupid</th>\n",
       "      <th></th>\n",
       "    </tr>\n",
       "  </thead>\n",
       "  <tbody>\n",
       "    <tr>\n",
       "      <th>1</th>\n",
       "      <td>10</td>\n",
       "    </tr>\n",
       "    <tr>\n",
       "      <th>2</th>\n",
       "      <td>10</td>\n",
       "    </tr>\n",
       "    <tr>\n",
       "      <th>3</th>\n",
       "      <td>10</td>\n",
       "    </tr>\n",
       "  </tbody>\n",
       "</table>\n",
       "</div>"
      ],
      "text/plain": [
       "         er2\n",
       "groupid     \n",
       "1         10\n",
       "2         10\n",
       "3         10"
      ]
     },
     "execution_count": 30,
     "metadata": {},
     "output_type": "execute_result"
    }
   ],
   "source": [
    "frequency_df = er2.groupby('groupid').count()\n",
    "frequency_df"
   ]
  },
  {
   "cell_type": "code",
   "execution_count": 31,
   "metadata": {},
   "outputs": [
    {
     "data": {
      "image/png": "[encoded data removed]",
      "text/plain": [
       "<Figure size 720x432 with 1 Axes>"
      ]
     },
     "metadata": {
      "needs_background": "light"
     },
     "output_type": "display_data"
    }
   ],
   "source": [
    "plt.figure(figsize=(10,6))\n",
    "ax=sns.stripplot(y='er2', x='groupid', data=er2)\n",
    "plt.show()"
   ]
  },
  {
   "cell_type": "markdown",
   "metadata": {},
   "source": [
    "ANOVA Assumptions"
   ]
  },
  {
   "cell_type": "markdown",
   "metadata": {},
   "source": [
    "Normality (Kolmogorov-Smirnov test)"
   ]
  },
  {
   "cell_type": "code",
   "execution_count": 37,
   "metadata": {},
   "outputs": [
    {
     "data": {
      "image/png": "[encoded data removed]",
      "text/plain": [
       "<Figure size 432x288 with 1 Axes>"
      ]
     },
     "metadata": {
      "needs_background": "light"
     },
     "output_type": "display_data"
    },
    {
     "name": "stdout",
     "output_type": "stream",
     "text": [
      "2.0940293716741592e-135\n",
      "H0 can be rejected\n"
     ]
    },
    {
     "data": {
      "image/png": "[encoded data removed]",
      "text/plain": [
       "<Figure size 432x288 with 1 Axes>"
      ]
     },
     "metadata": {
      "needs_background": "light"
     },
     "output_type": "display_data"
    },
    {
     "name": "stdout",
     "output_type": "stream",
     "text": [
      "2.030864369110714e-45\n",
      "H0 can be rejected\n"
     ]
    },
    {
     "data": {
      "image/png": "[encoded data removed]",
      "text/plain": [
       "<Figure size 432x288 with 1 Axes>"
      ]
     },
     "metadata": {
      "needs_background": "light"
     },
     "output_type": "display_data"
    },
    {
     "name": "stdout",
     "output_type": "stream",
     "text": [
      "2.358696006880556e-119\n",
      "H0 can be rejected\n"
     ]
    },
    {
     "data": {
      "image/png": "[encoded data removed]",
      "text/plain": [
       "<Figure size 432x288 with 1 Axes>"
      ]
     },
     "metadata": {
      "needs_background": "light"
     },
     "output_type": "display_data"
    },
    {
     "name": "stdout",
     "output_type": "stream",
     "text": [
      "2.030864369110714e-45\n",
      "H0 can be rejected\n"
     ]
    }
   ],
   "source": [
    "y1 = er2['er2'];\n",
    "plt.hist(y1, bins=32, density=True, cumulative=True)\n",
    "plt.show()\n",
    "stat1, pvalue1  = stats.kstest(y1, \"norm\")\n",
    "print(pvalue1)\n",
    "\n",
    "if pvalue1 < 0.05:\n",
    "    print(\"H0 can be rejected\")\n",
    "else:\n",
    "    print(\"H0 cannot be rejected\")\n",
    "    \n",
    "    \n",
    "target_group = 1\n",
    "y2 = er2['er2'][er2['groupid'] == target_group]\n",
    "plt.hist(y2, bins=32, density=True, cumulative=True)\n",
    "plt.show()\n",
    "stat2, pvalue2  = stats.kstest(y2, \"norm\")\n",
    "print(pvalue2)\n",
    "if pvalue2 < 0.05:\n",
    "    print(\"H0 can be rejected\")\n",
    "else:\n",
    "    print(\"H0 cannot be rejected\")\n",
    "\n",
    "\n",
    "target_group2 = 2\n",
    "y3 = er2['er2'][er2['groupid'] == target_group2]\n",
    "plt.hist(y3, bins=32, density=True, cumulative=True)\n",
    "plt.show()\n",
    "stat3, pvalue3  = stats.kstest(y3, \"norm\")\n",
    "print(pvalue3)\n",
    "if pvalue3 < 0.05:\n",
    "    print(\"H0 can be rejected\")\n",
    "else:\n",
    "    print(\"H0 cannot be rejected\")\n",
    "\n",
    "\n",
    "target_group3 = 3\n",
    "y4 = er2['er2'][er2['groupid'] == target_group3]\n",
    "plt.hist(y4, bins=32, density=True, cumulative=True)\n",
    "plt.show()\n",
    "stat4, pvalue4  = stats.kstest(y4, \"norm\")\n",
    "print(pvalue4)\n",
    "if pvalue4 < 0.05:\n",
    "    print(\"H0 can be rejected\")\n",
    "else:\n",
    "    print(\"H0 cannot be rejected\")    "
   ]
  },
  {
   "cell_type": "markdown",
   "metadata": {},
   "source": [
    "Constant Variance"
   ]
  },
  {
   "cell_type": "code",
   "execution_count": 38,
   "metadata": {},
   "outputs": [
    {
     "name": "stdout",
     "output_type": "stream",
     "text": [
      "0.8228802921172826\n"
     ]
    }
   ],
   "source": [
    "g1 = er2['er2'][er2['groupid'] == 1]\n",
    "g2 = er2['er2'][er2['groupid'] == 2]\n",
    "g3 = er2['er2'][er2['groupid'] == 3]\n",
    "\n",
    "stat1, p1 = bartlett(g1, g2, g3)\n",
    "print(p1)"
   ]
  },
  {
   "cell_type": "code",
   "execution_count": 39,
   "metadata": {},
   "outputs": [
    {
     "name": "stdout",
     "output_type": "stream",
     "text": [
      "number_of_groups =  18\n",
      "size_of_sample = 30\n",
      "              df       sum_sq     mean_sq         F    PR(>F)\n",
      "C(groupid)   2.0   257.866667  128.933333  1.984721  0.156968\n",
      "Residual    27.0  1754.000000   64.962963       NaN       NaN\n",
      "\n",
      "H0 cannot be rejected\n"
     ]
    }
   ],
   "source": [
    "number_of_groups = len(er2['er2'].unique())\n",
    "size_of_sample  = er2.shape[0]\n",
    "print(\"number_of_groups = \", number_of_groups)\n",
    "print(\"size_of_sample =\",size_of_sample)\n",
    "\n",
    "alpha = 0.05\n",
    "model = ols('er2 ~ C(groupid)', er2).fit()\n",
    "anovaResults = anova_lm(model, type=2)\n",
    "print(anovaResults)\n",
    "print()\n",
    "if anovaResults['PR(>F)'][0] < alpha:\n",
    "    print(\"One of the groups is different.\")\n",
    "else:\n",
    "    print(\"H0 cannot be rejected\")"
   ]
  },
  {
   "cell_type": "markdown",
   "metadata": {},
   "source": [
    "Για F-statistic με βαθμούς ελευθερίας 2 / 27  και  alpha=0.05, το  F-critical είναι  3.35, και εφόσον  1.984721 < 3.35, δεν μπορούμε να απορρίψουμε τη μηδενική υπόθεση (H0 hypothesis). Άρα μπορούμε να υποστηρίξουμε ότι δεν υπάρχει στατιστικά σημαντική διαφορά, σε επίπεδο σημαντικότητας 0,05 (όσο το α), ανάμεσα στις μέσες τιμές των τριών ομάδων για τα λάθη είδους 2. (Το αποτέλεσμα αυτό προκύπτει και με βάση το παραπάνω γράφημα)\n",
    "\n",
    "2. Β)  =  Λάθος"
   ]
  },
  {
   "cell_type": "markdown",
   "metadata": {},
   "source": [
    "Γ)"
   ]
  },
  {
   "cell_type": "markdown",
   "metadata": {},
   "source": [
    "ANOVA Assumptions"
   ]
  },
  {
   "cell_type": "markdown",
   "metadata": {},
   "source": [
    "Normality (Kolmogorov-Smirnov test)"
   ]
  },
  {
   "cell_type": "code",
   "execution_count": 40,
   "metadata": {},
   "outputs": [
    {
     "data": {
      "image/png": "[encoded data removed]",
      "text/plain": [
       "<Figure size 432x288 with 1 Axes>"
      ]
     },
     "metadata": {
      "needs_background": "light"
     },
     "output_type": "display_data"
    },
    {
     "name": "stdout",
     "output_type": "stream",
     "text": [
      "5.835461324162324e-38\n",
      "H0 can be rejected\n"
     ]
    },
    {
     "data": {
      "image/png": "[encoded data removed]",
      "text/plain": [
       "<Figure size 432x288 with 1 Axes>"
      ]
     },
     "metadata": {
      "needs_background": "light"
     },
     "output_type": "display_data"
    },
    {
     "name": "stdout",
     "output_type": "stream",
     "text": [
      "7.427953806510562e-17\n",
      "H0 can be rejected\n"
     ]
    },
    {
     "data": {
      "image/png": "[encoded data removed]",
      "text/plain": [
       "<Figure size 432x288 with 1 Axes>"
      ]
     },
     "metadata": {
      "needs_background": "light"
     },
     "output_type": "display_data"
    },
    {
     "name": "stdout",
     "output_type": "stream",
     "text": [
      "7.427953806510562e-17\n",
      "H0 can be rejected\n"
     ]
    },
    {
     "data": {
      "image/png": "[encoded data removed]",
      "text/plain": [
       "<Figure size 432x288 with 1 Axes>"
      ]
     },
     "metadata": {
      "needs_background": "light"
     },
     "output_type": "display_data"
    },
    {
     "name": "stdout",
     "output_type": "stream",
     "text": [
      "2.0000000002559685e-10\n",
      "H0 can be rejected\n"
     ]
    }
   ],
   "source": [
    "y1 = er3['er3'];\n",
    "plt.hist(y1, bins=32, density=True, cumulative=True)\n",
    "plt.show()\n",
    "stat1, pvalue1  = stats.kstest(y1, \"norm\")\n",
    "print(pvalue1)\n",
    "\n",
    "if pvalue1 < 0.05:\n",
    "    print(\"H0 can be rejected\")\n",
    "else:\n",
    "    print(\"H0 cannot be rejected\")\n",
    "    \n",
    "    \n",
    "target_group = 1\n",
    "y2 = er3['er3'][er3['groupid'] == target_group]\n",
    "plt.hist(y2, bins=32, density=True, cumulative=True)\n",
    "plt.show()\n",
    "stat2, pvalue2  = stats.kstest(y2, \"norm\")\n",
    "print(pvalue2)\n",
    "if pvalue2 < 0.05:\n",
    "    print(\"H0 can be rejected\")\n",
    "else:\n",
    "    print(\"H0 cannot be rejected\")\n",
    "\n",
    "\n",
    "target_group2 = 2\n",
    "y3 = er3['er3'][er3['groupid'] == target_group2]\n",
    "plt.hist(y3, bins=32, density=True, cumulative=True)\n",
    "plt.show()\n",
    "stat3, pvalue3  = stats.kstest(y3, \"norm\")\n",
    "print(pvalue3)\n",
    "if pvalue3 < 0.05:\n",
    "    print(\"H0 can be rejected\")\n",
    "else:\n",
    "    print(\"H0 cannot be rejected\")\n",
    "\n",
    "\n",
    "target_group3 = 3\n",
    "y4 = er3['er3'][er3['groupid'] == target_group3]\n",
    "plt.hist(y4, bins=32, density=True, cumulative=True)\n",
    "plt.show()\n",
    "stat4, pvalue4  = stats.kstest(y4, \"norm\")\n",
    "print(pvalue4)\n",
    "if pvalue4 < 0.05:\n",
    "    print(\"H0 can be rejected\")\n",
    "else:\n",
    "    print(\"H0 cannot be rejected\")    "
   ]
  },
  {
   "cell_type": "markdown",
   "metadata": {},
   "source": [
    "Constant Variance"
   ]
  },
  {
   "cell_type": "code",
   "execution_count": 41,
   "metadata": {},
   "outputs": [
    {
     "name": "stdout",
     "output_type": "stream",
     "text": [
      "0.9561628056645834\n"
     ]
    }
   ],
   "source": [
    "g1 = er3['er3'][er3['groupid'] == 1]\n",
    "g2 = er3['er3'][er3['groupid'] == 2]\n",
    "g3 = er3['er3'][er3['groupid'] == 3]\n",
    "\n",
    "stat1, p1 = bartlett(g1, g2, g3)\n",
    "print(p1)"
   ]
  },
  {
   "cell_type": "code",
   "execution_count": 42,
   "metadata": {},
   "outputs": [
    {
     "name": "stdout",
     "output_type": "stream",
     "text": [
      "number_of_groups =  20\n",
      "size_of_sample = 30\n",
      "              df       sum_sq    mean_sq         F    PR(>F)\n",
      "C(groupid)   2.0    16.466667   8.233333  0.095208  0.909488\n",
      "Residual    27.0  2334.900000  86.477778       NaN       NaN\n",
      "\n",
      "H0 cannot be rejected\n"
     ]
    }
   ],
   "source": [
    "number_of_groups = len(er3['er3'].unique())\n",
    "size_of_sample  = er3.shape[0]\n",
    "print(\"number_of_groups = \", number_of_groups)\n",
    "print(\"size_of_sample =\",size_of_sample)\n",
    "\n",
    "alpha = 0.05\n",
    "model = ols('er3 ~ C(groupid)', er3).fit()\n",
    "anovaResults = anova_lm(model, type=2)\n",
    "print(anovaResults)\n",
    "print()\n",
    "if anovaResults['PR(>F)'][0] < alpha:\n",
    "    print(\"One of the groups is different.\")\n",
    "else:\n",
    "    print(\"H0 cannot be rejected\")"
   ]
  },
  {
   "cell_type": "markdown",
   "metadata": {},
   "source": [
    "Για F-statistic με βαθμούς ελευθερίας 2 / 27  και  alpha=0.05, το  F-critical είναι  3.35, και εφόσον  0.095208 < 3.35, δεν μπορούμε να απορρίψουμε τη μηδενική υπόθεση (H0 hypothesis). Άρα μπορούμε να υποστηρίξουμε ότι δεν υπάρχει στατιστικά σημαντική διαφορά, σε επίπεδο σημαντικότητας 0,05 (όσο το α), ανάμεσα στις μέσες τιμές των τριών ομάδων για τα λάθη είδους 3. (Το αποτέλεσμα αυτό προκύπτει και με βάση το παραπάνω γράφημα)\n",
    "\n",
    "2. Γ)  =  Λάθος"
   ]
  },
  {
   "cell_type": "markdown",
   "metadata": {},
   "source": [
    "# Ερώτημα 3"
   ]
  },
  {
   "cell_type": "code",
   "execution_count": 45,
   "metadata": {},
   "outputs": [
    {
     "name": "stdout",
     "output_type": "stream",
     "text": [
      "Multiple Comparison of Means - Tukey HSD, FWER=0.05\n",
      "===================================================\n",
      "group1 group2 meandiff p-adj   lower  upper  reject\n",
      "---------------------------------------------------\n",
      "     1      2     17.4  0.001   7.208 27.592   True\n",
      "     1      3     10.2 0.0498   0.008 20.392   True\n",
      "     2      3     -7.2 0.2052 -17.392  2.992  False\n",
      "---------------------------------------------------\n"
     ]
    }
   ],
   "source": [
    "from statsmodels.stats.multicomp import pairwise_tukeyhsd\n",
    "\n",
    "tukey = pairwise_tukeyhsd(endog=er1['er1'],\n",
    "                          groups=er1['groupid'],\n",
    "                          alpha=0.05)\n",
    "print(tukey)"
   ]
  },
  {
   "cell_type": "markdown",
   "metadata": {},
   "source": [
    "Με βάση τα παραπάνω αποτελέσματα των tukey’s test για όλα τα πιθανά ζευγάρια ομάδων, προκύπτει ότι το Η0 μπορεί να απορριφθεί από δύο ζευγάρια ομάδων. Δηλαδή η μέση τιμή των λαθών είδους 1 της 1ης ομάδας διαφοροποιείται σημαντικά από την αντίστοιχη μέση τιμή της 2ης ομάδας καθώς και από την αντίστοιχη μέση τιμή της 3ης ομάδας."
   ]
  },
  {
   "cell_type": "markdown",
   "metadata": {},
   "source": [
    "# Ερώτημα 4"
   ]
  },
  {
   "cell_type": "code",
   "execution_count": 50,
   "metadata": {},
   "outputs": [
    {
     "name": "stdout",
     "output_type": "stream",
     "text": [
      "const    176.0\n",
      "er1       -2.0\n",
      "er2       -3.0\n",
      "er3       -0.2\n",
      "dtype: float64\n",
      "                            OLS Regression Results                            \n",
      "==============================================================================\n",
      "Dep. Variable:                  score   R-squared:                       1.000\n",
      "Model:                            OLS   Adj. R-squared:                  1.000\n",
      "Method:                 Least Squares   F-statistic:                 2.706e+31\n",
      "Date:                Sun, 27 Jun 2021   Prob (F-statistic):               0.00\n",
      "Time:                        19:53:10   Log-Likelihood:                 904.28\n",
      "No. Observations:                  30   AIC:                            -1801.\n",
      "Df Residuals:                      26   BIC:                            -1795.\n",
      "Df Model:                           3                                         \n",
      "Covariance Type:            nonrobust                                         \n",
      "==============================================================================\n",
      "                 coef    std err          t      P>|t|      [0.025      0.975]\n",
      "------------------------------------------------------------------------------\n",
      "const        176.0000   1.45e-14   1.21e+16      0.000     176.000     176.000\n",
      "er1           -2.0000   3.44e-16  -5.81e+15      0.000      -2.000      -2.000\n",
      "er2           -3.0000   4.95e-16  -6.05e+15      0.000      -3.000      -3.000\n",
      "er3           -0.2000   4.56e-16  -4.38e+14      0.000      -0.200      -0.200\n",
      "==============================================================================\n",
      "Omnibus:                        2.178   Durbin-Watson:                   1.886\n",
      "Prob(Omnibus):                  0.336   Jarque-Bera (JB):                1.512\n",
      "Skew:                          -0.327   Prob(JB):                        0.470\n",
      "Kurtosis:                       2.117   Cond. No.                         126.\n",
      "==============================================================================\n",
      "\n",
      "Notes:\n",
      "[1] Standard Errors assume that the covariance matrix of the errors is correctly specified.\n"
     ]
    }
   ],
   "source": [
    "import statsmodels.api as sm\n",
    "\n",
    "\n",
    "X1 = df[[\"er1\", \"er2\", \"er3\"]]\n",
    "Y1 = df[\"score\"]\n",
    "\n",
    "X1 = sm.add_constant(X1)\n",
    "model = sm.OLS(Y1, X1).fit()\n",
    "predictions = model.predict(X1) \n",
    "print_model = model.summary()\n",
    "print(model.params)\n",
    "print(print_model)\n",
    "\n",
    "\n"
   ]
  },
  {
   "cell_type": "markdown",
   "metadata": {},
   "source": [
    "Με βάση τα αποτελέσματα που δίνονται στον παραπάνω πίνακα, και συγκεκριμένα τη μετρική R-squared, το μοντέλο πράγματι υπολογίζει την τελική βαθμολογία. Ωστόσο, εφόσον η τιμή αυτή ισούται με 1, συμπεραίνουμε ότι το μοντέλο έχει κάνει overfit στα δεδομένα, και άρα η γραμμική συσχέτιση που υπάρχει μεταξύ των τριών ανεξάρτητων μεταβλητών και της εξαρτημένης είναι απόλυτη (όπως δείχνει η τιμή του Prob=0.00). Ωστόσο τα ευρήματα αυτά οδηγούν στο συμπέρασμα ότι το μοντέλο αυτό δεν είναι χρήσιμο, καθώς μπορεί να προβλέψει ακριβώς την τελική βαθμολογία αλλά μόνο για τα συγκεκριμένα πλήθη λαθών, και άρα δεν μπορεί να γενικευθεί. Επιπλέον, λαμβάνοντας υπόψη τόσο ότι το F-statistic > Prob οσο και τις τιμές του t και P>|t| για κάθε ανεξάρτητη μεταβλητή θα μπορούσαμε να καταλήξουμε ότι ένα overfitted μοντέλο είναι μεν στατιστικά σημαντικό (όπως και οι ανεξάρητες μεταβλητές του) αλλά δεν έχει κάποια αξία καθώς δεν καταφέρνει να αποτελέσει ένα πραγματικό μοντέλο για ολόκληρο τον πληθυσμό. "
   ]
  },
  {
   "cell_type": "code",
   "execution_count": null,
   "metadata": {},
   "outputs": [],
   "source": []
  }
 ],
 "metadata": {
  "kernelspec": {
   "display_name": "Python 3",
   "language": "python",
   "name": "python3"
  },
  "language_info": {
   "codemirror_mode": {
    "name": "ipython",
    "version": 3
   },
   "file_extension": ".py",
   "mimetype": "text/x-python",
   "name": "python",
   "nbconvert_exporter": "python",
   "pygments_lexer": "ipython3",
   "version": "3.8.5"
  }
 },
 "nbformat": 4,
 "nbformat_minor": 4
}
